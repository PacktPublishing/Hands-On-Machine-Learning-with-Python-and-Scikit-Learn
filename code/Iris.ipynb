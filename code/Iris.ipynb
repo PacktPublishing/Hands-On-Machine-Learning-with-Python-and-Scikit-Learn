{
 "cells": [
  {
   "cell_type": "markdown",
   "metadata": {},
   "source": [
    "# Iris&mdash;an introduction to supervised learning using scikit-learn\n",
    "\n",
    "Our first notebook will explore the well-known \"iris\" dataset. This is a simple dataset with only 150 observations and 4 features:\n",
    "\n",
    "   1. sepal length in cm\n",
    "   2. sepal width in cm\n",
    "   3. petal length in cm\n",
    "   4. petal width in cm\n",
    "   \n",
    "The objective is quite simple: **predict the species to which each observation belongs**. What makes the problem more interesting is that the classes (there are 3) are *not all perfectly linearly separable* from one another (one class is from the other 2, but the others are not). That is, you cannot draw a linear boundary between each species' feature space.\n",
    "\n",
    "The prediction targets:\n",
    "\n",
    "  0. Iris Setosa\n",
    "  1. Iris Versicolour\n",
    "  2. Iris Virginica\n",
    "  \n",
    "### Background\n",
    "\n",
    "\n",
    "This is perhaps the best known database to be found in the pattern recognition literature.  Fisher's paper is a classic in the field and is referenced frequently to this day (see Duda & Hart, for example).\n",
    "\n",
    "    ============== ==== ==== ======= ===== ====================\n",
    "                    Min  Max   Mean    SD   Class Correlation\n",
    "    ============== ==== ==== ======= ===== ====================\n",
    "    sepal length:   4.3  7.9   5.84   0.83    0.7826\n",
    "    sepal width:    2.0  4.4   3.05   0.43   -0.4194\n",
    "    petal length:   1.0  6.9   3.76   1.76    0.9490  (high!)\n",
    "    petal width:    0.1  2.5   1.20  0.76     0.9565  (high!)\n",
    "    ============== ==== ==== ======= ===== ====================\n",
    "    \n",
    "    \n",
    "#### References\n",
    "\n",
    "- Fisher,R.A. \"The use of multiple measurements in taxonomic problems\"\n",
    " Annual Eugenics, 7, Part II, 179-188 (1936); also in \"Contributions to\n",
    " Mathematical Statistics\" (John Wiley, NY, 1950).\n",
    "- Duda,R.O., & Hart,P.E. (1973) Pattern Classification and Scene Analysis.\n",
    " (Q327.D83) John Wiley & Sons.  ISBN 0-471-22361-1.  See page 218.\n",
    "- Dasarathy, B.V. (1980) \"Nosing Around the Neighborhood: A New System\n",
    " Structure and Classification Rule for Recognition in Partially Exposed\n",
    " Environments\".  IEEE Transactions on Pattern Analysis and Machine\n",
    " Intelligence, Vol. PAMI-2, No. 1, 67-71.\n",
    "- Gates, G.W. (1972) \"The Reduced Nearest Neighbor Rule\".  IEEE Transactions\n",
    " on Information Theory, May 1972, 431-433.\n",
    "- See also: 1988 MLC Proceedings, 54-64.  Cheeseman et al\"s AUTOCLASS II\n",
    " conceptual clustering system finds 3 classes in the data.\n",
    "- Many, many more ..."
   ]
  },
  {
   "cell_type": "markdown",
   "metadata": {},
   "source": [
    "# Loading and Manipulating Data with Pandas\n",
    "\n",
    "Our first step is simply to load our data. Since we're using iris, we can use sklearn's built-in method: [`load_iris`](http://scikit-learn.org/stable/modules/generated/sklearn.datasets.load_iris.html)"
   ]
  },
  {
   "cell_type": "code",
   "execution_count": 1,
   "metadata": {
    "collapsed": false
   },
   "outputs": [
    {
     "data": {
      "text/html": [
       "<div>\n",
       "<table border=\"1\" class=\"dataframe\">\n",
       "  <thead>\n",
       "    <tr style=\"text-align: right;\">\n",
       "      <th></th>\n",
       "      <th>sepal length (cm)</th>\n",
       "      <th>sepal width (cm)</th>\n",
       "      <th>petal length (cm)</th>\n",
       "      <th>petal width (cm)</th>\n",
       "    </tr>\n",
       "  </thead>\n",
       "  <tbody>\n",
       "    <tr>\n",
       "      <th>0</th>\n",
       "      <td>5.1</td>\n",
       "      <td>3.5</td>\n",
       "      <td>1.4</td>\n",
       "      <td>0.2</td>\n",
       "    </tr>\n",
       "    <tr>\n",
       "      <th>1</th>\n",
       "      <td>4.9</td>\n",
       "      <td>3.0</td>\n",
       "      <td>1.4</td>\n",
       "      <td>0.2</td>\n",
       "    </tr>\n",
       "    <tr>\n",
       "      <th>2</th>\n",
       "      <td>4.7</td>\n",
       "      <td>3.2</td>\n",
       "      <td>1.3</td>\n",
       "      <td>0.2</td>\n",
       "    </tr>\n",
       "    <tr>\n",
       "      <th>3</th>\n",
       "      <td>4.6</td>\n",
       "      <td>3.1</td>\n",
       "      <td>1.5</td>\n",
       "      <td>0.2</td>\n",
       "    </tr>\n",
       "    <tr>\n",
       "      <th>4</th>\n",
       "      <td>5.0</td>\n",
       "      <td>3.6</td>\n",
       "      <td>1.4</td>\n",
       "      <td>0.2</td>\n",
       "    </tr>\n",
       "    <tr>\n",
       "      <th>5</th>\n",
       "      <td>5.4</td>\n",
       "      <td>3.9</td>\n",
       "      <td>1.7</td>\n",
       "      <td>0.4</td>\n",
       "    </tr>\n",
       "    <tr>\n",
       "      <th>6</th>\n",
       "      <td>4.6</td>\n",
       "      <td>3.4</td>\n",
       "      <td>1.4</td>\n",
       "      <td>0.3</td>\n",
       "    </tr>\n",
       "    <tr>\n",
       "      <th>7</th>\n",
       "      <td>5.0</td>\n",
       "      <td>3.4</td>\n",
       "      <td>1.5</td>\n",
       "      <td>0.2</td>\n",
       "    </tr>\n",
       "    <tr>\n",
       "      <th>8</th>\n",
       "      <td>4.4</td>\n",
       "      <td>2.9</td>\n",
       "      <td>1.4</td>\n",
       "      <td>0.2</td>\n",
       "    </tr>\n",
       "    <tr>\n",
       "      <th>9</th>\n",
       "      <td>4.9</td>\n",
       "      <td>3.1</td>\n",
       "      <td>1.5</td>\n",
       "      <td>0.1</td>\n",
       "    </tr>\n",
       "  </tbody>\n",
       "</table>\n",
       "</div>"
      ],
      "text/plain": [
       "   sepal length (cm)  sepal width (cm)  petal length (cm)  petal width (cm)\n",
       "0                5.1               3.5                1.4               0.2\n",
       "1                4.9               3.0                1.4               0.2\n",
       "2                4.7               3.2                1.3               0.2\n",
       "3                4.6               3.1                1.5               0.2\n",
       "4                5.0               3.6                1.4               0.2\n",
       "5                5.4               3.9                1.7               0.4\n",
       "6                4.6               3.4                1.4               0.3\n",
       "7                5.0               3.4                1.5               0.2\n",
       "8                4.4               2.9                1.4               0.2\n",
       "9                4.9               3.1                1.5               0.1"
      ]
     },
     "execution_count": 1,
     "metadata": {},
     "output_type": "execute_result"
    }
   ],
   "source": [
    "from sklearn.datasets import load_iris\n",
    "import pandas as pd\n",
    "\n",
    "# load the data\n",
    "iris = load_iris()\n",
    "X = pd.DataFrame.from_records(data=iris.data, columns=iris.feature_names)\n",
    "X.head(10)"
   ]
  },
  {
   "cell_type": "markdown",
   "metadata": {},
   "source": [
    "### Observing the target\n",
    "\n",
    "What is our target for this dataset?"
   ]
  },
  {
   "cell_type": "code",
   "execution_count": 2,
   "metadata": {
    "collapsed": false
   },
   "outputs": [
    {
     "name": "stdout",
     "output_type": "stream",
     "text": [
      "['setosa' 'setosa' 'setosa' 'setosa' 'setosa' 'setosa' 'setosa' 'setosa'\n",
      " 'setosa' 'setosa' 'setosa' 'setosa' 'setosa' 'setosa' 'setosa' 'setosa'\n",
      " 'setosa' 'setosa' 'setosa' 'setosa' 'setosa' 'setosa' 'setosa' 'setosa'\n",
      " 'setosa' 'setosa' 'setosa' 'setosa' 'setosa' 'setosa' 'setosa' 'setosa'\n",
      " 'setosa' 'setosa' 'setosa' 'setosa' 'setosa' 'setosa' 'setosa' 'setosa'\n",
      " 'setosa' 'setosa' 'setosa' 'setosa' 'setosa' 'setosa' 'setosa' 'setosa'\n",
      " 'setosa' 'setosa' 'versicolor' 'versicolor' 'versicolor' 'versicolor'\n",
      " 'versicolor' 'versicolor' 'versicolor' 'versicolor' 'versicolor'\n",
      " 'versicolor' 'versicolor' 'versicolor' 'versicolor' 'versicolor'\n",
      " 'versicolor' 'versicolor' 'versicolor' 'versicolor' 'versicolor'\n",
      " 'versicolor' 'versicolor' 'versicolor' 'versicolor' 'versicolor'\n",
      " 'versicolor' 'versicolor' 'versicolor' 'versicolor' 'versicolor'\n",
      " 'versicolor' 'versicolor' 'versicolor' 'versicolor' 'versicolor'\n",
      " 'versicolor' 'versicolor' 'versicolor' 'versicolor' 'versicolor'\n",
      " 'versicolor' 'versicolor' 'versicolor' 'versicolor' 'versicolor'\n",
      " 'versicolor' 'versicolor' 'versicolor' 'versicolor' 'versicolor'\n",
      " 'versicolor' 'virginica' 'virginica' 'virginica' 'virginica' 'virginica'\n",
      " 'virginica' 'virginica' 'virginica' 'virginica' 'virginica' 'virginica'\n",
      " 'virginica' 'virginica' 'virginica' 'virginica' 'virginica' 'virginica'\n",
      " 'virginica' 'virginica' 'virginica' 'virginica' 'virginica' 'virginica'\n",
      " 'virginica' 'virginica' 'virginica' 'virginica' 'virginica' 'virginica'\n",
      " 'virginica' 'virginica' 'virginica' 'virginica' 'virginica' 'virginica'\n",
      " 'virginica' 'virginica' 'virginica' 'virginica' 'virginica' 'virginica'\n",
      " 'virginica' 'virginica' 'virginica' 'virginica' 'virginica' 'virginica'\n",
      " 'virginica' 'virginica' 'virginica']\n"
     ]
    }
   ],
   "source": [
    "y = iris.target_names[iris.target]\n",
    "print(y)"
   ]
  },
  {
   "cell_type": "markdown",
   "metadata": {},
   "source": [
    "## Manipulating/visualizing data with Pandas\n",
    "\n",
    "There's a fantastic Pandas tutorial out there ([10 minutes to pandas](https://pandas.pydata.org/pandas-docs/stable/10min.html)), but we'll go over a few of the basics so the syntax is easily understood here\n",
    "\n",
    "#### Selecting columns:"
   ]
  },
  {
   "cell_type": "code",
   "execution_count": 3,
   "metadata": {
    "collapsed": false
   },
   "outputs": [
    {
     "data": {
      "text/html": [
       "<div>\n",
       "<table border=\"1\" class=\"dataframe\">\n",
       "  <thead>\n",
       "    <tr style=\"text-align: right;\">\n",
       "      <th></th>\n",
       "      <th>sepal length (cm)</th>\n",
       "      <th>sepal width (cm)</th>\n",
       "    </tr>\n",
       "  </thead>\n",
       "  <tbody>\n",
       "    <tr>\n",
       "      <th>0</th>\n",
       "      <td>5.1</td>\n",
       "      <td>3.5</td>\n",
       "    </tr>\n",
       "    <tr>\n",
       "      <th>1</th>\n",
       "      <td>4.9</td>\n",
       "      <td>3.0</td>\n",
       "    </tr>\n",
       "    <tr>\n",
       "      <th>2</th>\n",
       "      <td>4.7</td>\n",
       "      <td>3.2</td>\n",
       "    </tr>\n",
       "  </tbody>\n",
       "</table>\n",
       "</div>"
      ],
      "text/plain": [
       "   sepal length (cm)  sepal width (cm)\n",
       "0                5.1               3.5\n",
       "1                4.9               3.0\n",
       "2                4.7               3.2"
      ]
     },
     "execution_count": 3,
     "metadata": {},
     "output_type": "execute_result"
    }
   ],
   "source": [
    "X[['sepal length (cm)', 'sepal width (cm)']].head(3)  # show two cols, 3 rows"
   ]
  },
  {
   "cell_type": "code",
   "execution_count": 4,
   "metadata": {
    "collapsed": true
   },
   "outputs": [],
   "source": [
    "assert X[X.columns] is not X"
   ]
  },
  {
   "cell_type": "markdown",
   "metadata": {},
   "source": [
    "#### Select by index:"
   ]
  },
  {
   "cell_type": "code",
   "execution_count": 5,
   "metadata": {
    "collapsed": false
   },
   "outputs": [
    {
     "data": {
      "text/plain": [
       "sepal length (cm)    7.4\n",
       "sepal width (cm)     2.8\n",
       "petal length (cm)    6.1\n",
       "petal width (cm)     1.9\n",
       "Name: 130, dtype: float64"
      ]
     },
     "execution_count": 5,
     "metadata": {},
     "output_type": "execute_result"
    }
   ],
   "source": [
    "X.loc[130]"
   ]
  },
  {
   "cell_type": "markdown",
   "metadata": {},
   "source": [
    "#### Select by mask"
   ]
  },
  {
   "cell_type": "code",
   "execution_count": 6,
   "metadata": {
    "collapsed": false
   },
   "outputs": [
    {
     "data": {
      "text/html": [
       "<div>\n",
       "<table border=\"1\" class=\"dataframe\">\n",
       "  <thead>\n",
       "    <tr style=\"text-align: right;\">\n",
       "      <th></th>\n",
       "      <th>sepal length (cm)</th>\n",
       "      <th>sepal width (cm)</th>\n",
       "      <th>petal length (cm)</th>\n",
       "      <th>petal width (cm)</th>\n",
       "    </tr>\n",
       "  </thead>\n",
       "  <tbody>\n",
       "    <tr>\n",
       "      <th>100</th>\n",
       "      <td>6.3</td>\n",
       "      <td>3.3</td>\n",
       "      <td>6.0</td>\n",
       "      <td>2.5</td>\n",
       "    </tr>\n",
       "    <tr>\n",
       "      <th>101</th>\n",
       "      <td>5.8</td>\n",
       "      <td>2.7</td>\n",
       "      <td>5.1</td>\n",
       "      <td>1.9</td>\n",
       "    </tr>\n",
       "    <tr>\n",
       "      <th>102</th>\n",
       "      <td>7.1</td>\n",
       "      <td>3.0</td>\n",
       "      <td>5.9</td>\n",
       "      <td>2.1</td>\n",
       "    </tr>\n",
       "  </tbody>\n",
       "</table>\n",
       "</div>"
      ],
      "text/plain": [
       "     sepal length (cm)  sepal width (cm)  petal length (cm)  petal width (cm)\n",
       "100                6.3               3.3                6.0               2.5\n",
       "101                5.8               2.7                5.1               1.9\n",
       "102                7.1               3.0                5.9               2.1"
      ]
     },
     "execution_count": 6,
     "metadata": {},
     "output_type": "execute_result"
    }
   ],
   "source": [
    "X.loc[y == 'virginica'].head(3)"
   ]
  },
  {
   "cell_type": "markdown",
   "metadata": {},
   "source": [
    "#### Add a column:"
   ]
  },
  {
   "cell_type": "code",
   "execution_count": 7,
   "metadata": {
    "collapsed": false
   },
   "outputs": [
    {
     "data": {
      "text/html": [
       "<div>\n",
       "<table border=\"1\" class=\"dataframe\">\n",
       "  <thead>\n",
       "    <tr style=\"text-align: right;\">\n",
       "      <th></th>\n",
       "      <th>sepal length (cm)</th>\n",
       "      <th>sepal width (cm)</th>\n",
       "      <th>petal length (cm)</th>\n",
       "      <th>petal width (cm)</th>\n",
       "      <th>target</th>\n",
       "    </tr>\n",
       "  </thead>\n",
       "  <tbody>\n",
       "    <tr>\n",
       "      <th>0</th>\n",
       "      <td>5.1</td>\n",
       "      <td>3.5</td>\n",
       "      <td>1.4</td>\n",
       "      <td>0.2</td>\n",
       "      <td>setosa</td>\n",
       "    </tr>\n",
       "    <tr>\n",
       "      <th>1</th>\n",
       "      <td>4.9</td>\n",
       "      <td>3.0</td>\n",
       "      <td>1.4</td>\n",
       "      <td>0.2</td>\n",
       "      <td>setosa</td>\n",
       "    </tr>\n",
       "    <tr>\n",
       "      <th>2</th>\n",
       "      <td>4.7</td>\n",
       "      <td>3.2</td>\n",
       "      <td>1.3</td>\n",
       "      <td>0.2</td>\n",
       "      <td>setosa</td>\n",
       "    </tr>\n",
       "    <tr>\n",
       "      <th>3</th>\n",
       "      <td>4.6</td>\n",
       "      <td>3.1</td>\n",
       "      <td>1.5</td>\n",
       "      <td>0.2</td>\n",
       "      <td>setosa</td>\n",
       "    </tr>\n",
       "    <tr>\n",
       "      <th>4</th>\n",
       "      <td>5.0</td>\n",
       "      <td>3.6</td>\n",
       "      <td>1.4</td>\n",
       "      <td>0.2</td>\n",
       "      <td>setosa</td>\n",
       "    </tr>\n",
       "  </tbody>\n",
       "</table>\n",
       "</div>"
      ],
      "text/plain": [
       "   sepal length (cm)  sepal width (cm)  petal length (cm)  petal width (cm)  \\\n",
       "0                5.1               3.5                1.4               0.2   \n",
       "1                4.9               3.0                1.4               0.2   \n",
       "2                4.7               3.2                1.3               0.2   \n",
       "3                4.6               3.1                1.5               0.2   \n",
       "4                5.0               3.6                1.4               0.2   \n",
       "\n",
       "   target  \n",
       "0  setosa  \n",
       "1  setosa  \n",
       "2  setosa  \n",
       "3  setosa  \n",
       "4  setosa  "
      ]
     },
     "execution_count": 7,
     "metadata": {},
     "output_type": "execute_result"
    }
   ],
   "source": [
    "X_copy = X.copy()\n",
    "X_copy['target'] = y\n",
    "X_copy.head()"
   ]
  },
  {
   "cell_type": "markdown",
   "metadata": {},
   "source": [
    "#### Apply a function to columns:"
   ]
  },
  {
   "cell_type": "code",
   "execution_count": 8,
   "metadata": {
    "collapsed": false
   },
   "outputs": [
    {
     "data": {
      "text/plain": [
       "sepal length (cm)    object\n",
       "sepal width (cm)     object\n",
       "petal length (cm)    object\n",
       "petal width (cm)     object\n",
       "target               object\n",
       "dtype: object"
      ]
     },
     "execution_count": 8,
     "metadata": {},
     "output_type": "execute_result"
    }
   ],
   "source": [
    "X_str = X_copy.apply(lambda col: col.astype(str))\n",
    "X_str.dtypes"
   ]
  },
  {
   "cell_type": "markdown",
   "metadata": {},
   "source": [
    "#### Group by categorical columns & apply a function to groups:"
   ]
  },
  {
   "cell_type": "code",
   "execution_count": 9,
   "metadata": {
    "collapsed": false
   },
   "outputs": [
    {
     "data": {
      "text/plain": [
       "target\n",
       "setosa        5.8\n",
       "versicolor    7.0\n",
       "virginica     7.9\n",
       "dtype: float64"
      ]
     },
     "execution_count": 9,
     "metadata": {},
     "output_type": "execute_result"
    }
   ],
   "source": [
    "groups = X_copy.groupby('target')\n",
    "groups.apply(lambda group: group['sepal length (cm)'].max())"
   ]
  },
  {
   "cell_type": "markdown",
   "metadata": {},
   "source": [
    "#### Visualize data"
   ]
  },
  {
   "cell_type": "code",
   "execution_count": 10,
   "metadata": {
    "collapsed": false
   },
   "outputs": [
    {
     "data": {
      "text/plain": [
       "<matplotlib.axes._subplots.AxesSubplot at 0x1a0f110cc0>"
      ]
     },
     "execution_count": 10,
     "metadata": {},
     "output_type": "execute_result"
    },
    {
     "data": {
      "image/png": "[encoded data removed]",
      "text/plain": [
       "<matplotlib.figure.Figure at 0x10de9bef0>"
      ]
     },
     "metadata": {},
     "output_type": "display_data"
    }
   ],
   "source": [
    "from matplotlib import pyplot as plt\n",
    "%matplotlib inline\n",
    "\n",
    "X_copy['sepal length (cm)'].hist()"
   ]
  },
  {
   "cell_type": "code",
   "execution_count": 11,
   "metadata": {
    "collapsed": false
   },
   "outputs": [
    {
     "data": {
      "text/plain": [
       "target\n",
       "setosa        Axes(0.125,0.125;0.775x0.755)\n",
       "versicolor    Axes(0.125,0.125;0.775x0.755)\n",
       "virginica     Axes(0.125,0.125;0.775x0.755)\n",
       "Name: sepal length (cm), dtype: object"
      ]
     },
     "execution_count": 11,
     "metadata": {},
     "output_type": "execute_result"
    },
    {
     "data": {
      "image/png": "[encoded data removed]",
      "text/plain": [
       "<matplotlib.figure.Figure at 0x1a180340f0>"
      ]
     },
     "metadata": {},
     "output_type": "display_data"
    }
   ],
   "source": [
    "groups['sepal length (cm)'].plot.density(legend=True)"
   ]
  },
  {
   "cell_type": "markdown",
   "metadata": {},
   "source": [
    "#### Counting values (useful for categorical variables)"
   ]
  },
  {
   "cell_type": "code",
   "execution_count": 12,
   "metadata": {
    "collapsed": false
   },
   "outputs": [
    {
     "data": {
      "text/plain": [
       "setosa        50\n",
       "virginica     50\n",
       "versicolor    50\n",
       "Name: target, dtype: int64"
      ]
     },
     "execution_count": 12,
     "metadata": {},
     "output_type": "execute_result"
    }
   ],
   "source": [
    "X_copy.target.value_counts()"
   ]
  },
  {
   "cell_type": "markdown",
   "metadata": {},
   "source": [
    "\n",
    "### Adding a twist&mdash;missing values\n",
    "\n",
    "For those who are familiar with iris, you'll know there are no missing values. However, since the purpose of this course is to address practical ML, dealing with missing values is going to be a common occurrence. We'll introduce a small amount of missing values in order to discuss strategies for imputing them later."
   ]
  },
  {
   "cell_type": "code",
   "execution_count": 13,
   "metadata": {
    "collapsed": false
   },
   "outputs": [
    {
     "data": {
      "text/html": [
       "<div>\n",
       "<table border=\"1\" class=\"dataframe\">\n",
       "  <thead>\n",
       "    <tr style=\"text-align: right;\">\n",
       "      <th></th>\n",
       "      <th>sepal length (cm)</th>\n",
       "      <th>sepal width (cm)</th>\n",
       "      <th>petal length (cm)</th>\n",
       "      <th>petal width (cm)</th>\n",
       "    </tr>\n",
       "  </thead>\n",
       "  <tbody>\n",
       "    <tr>\n",
       "      <th>0</th>\n",
       "      <td>5.1</td>\n",
       "      <td>3.5</td>\n",
       "      <td>1.4</td>\n",
       "      <td>0.2</td>\n",
       "    </tr>\n",
       "    <tr>\n",
       "      <th>1</th>\n",
       "      <td>4.9</td>\n",
       "      <td>3.0</td>\n",
       "      <td>1.4</td>\n",
       "      <td>0.2</td>\n",
       "    </tr>\n",
       "    <tr>\n",
       "      <th>2</th>\n",
       "      <td>4.7</td>\n",
       "      <td>3.2</td>\n",
       "      <td>NaN</td>\n",
       "      <td>0.2</td>\n",
       "    </tr>\n",
       "    <tr>\n",
       "      <th>3</th>\n",
       "      <td>4.6</td>\n",
       "      <td>3.1</td>\n",
       "      <td>1.5</td>\n",
       "      <td>0.2</td>\n",
       "    </tr>\n",
       "    <tr>\n",
       "      <th>4</th>\n",
       "      <td>5.0</td>\n",
       "      <td>3.6</td>\n",
       "      <td>1.4</td>\n",
       "      <td>0.2</td>\n",
       "    </tr>\n",
       "  </tbody>\n",
       "</table>\n",
       "</div>"
      ],
      "text/plain": [
       "   sepal length (cm)  sepal width (cm)  petal length (cm)  petal width (cm)\n",
       "0                5.1               3.5                1.4               0.2\n",
       "1                4.9               3.0                1.4               0.2\n",
       "2                4.7               3.2                NaN               0.2\n",
       "3                4.6               3.1                1.5               0.2\n",
       "4                5.0               3.6                1.4               0.2"
      ]
     },
     "execution_count": 13,
     "metadata": {},
     "output_type": "execute_result"
    }
   ],
   "source": [
    "from sklearn.utils import check_random_state\n",
    "import numpy as np\n",
    "\n",
    "# get a random state for repeatability\n",
    "seed = 42\n",
    "random_state = check_random_state(seed)\n",
    "\n",
    "# create a mask\n",
    "missing_pct = 0.05\n",
    "missing_mask = random_state.rand(*X.shape) < missing_pct\n",
    "\n",
    "# assign the mask as missing values\n",
    "X = X.where(~missing_mask, other=np.nan)\n",
    "X.head()"
   ]
  },
  {
   "cell_type": "markdown",
   "metadata": {},
   "source": [
    "# Backing up: ML objective\n",
    "\n",
    "What's the point? Machine learning is a hot buzzword, but is largely misunderstood. Many companies know they should be using it, but have no idea where to use it or what it can do. There are two broad umbrellas we will use to describe different machine learning problems:\n",
    "\n",
    "1. __Supervised machine learning__\n",
    "    <br/>\n",
    "    <br/>\n",
    "    Mathematically put, given $X \\in \\mathbb{R}^{m \\times n}$, predict some vector $y$. More concretely, we have some data (a matrix we'll call $X$), and we have a \"target\" (a vector we'll call $y$). We want to find some function, $h$ such that given a new sample, $x_{n}$, we can predict the corresponding target:\n",
    "    \n",
    "    $$h(x_{n}) = \\hat{y_{n}}$$\n",
    "    \n",
    "    Supervised learning occurs when the algorithm is presented with ground truth (the actual target), and it's able to learn a decision function with respect to the target. In the real world, infants observe all sorts of items. When they encounter a carrot for the first time, they have a parent available to inform them of the \"target\" class, carrot. Thus, the child might learn rules:\n",
    "    \n",
    "        If orange, then carrot\n",
    "        \n",
    "    <img alt=\"Carrot1\" src=\"img/carrot1.png\" style=\"width:250px;\"/>\n",
    "        \n",
    "    However, imagine the child is then shown a block of sharp cheddar cheese. With such a weak decision function, it incorrectly labels the cheese a carrot and is corrected. New rules may emerge here:\n",
    "    \n",
    "        If orange and pointy and leafy, then carrot\n",
    "        If orange and soft and smelly, then cheese\n",
    "        \n",
    "    <img alt=\"Carrot2\" src=\"img/carrot2.png\" style=\"width:350px;\"/>\n",
    "        \n",
    "    Therefore, supervised learning occurs when ground truth is available to guide the learning of the algorithm.\n",
    "\n",
    "    <br/>\n",
    "2. __Unsupervised machine learning__\n",
    "    <br/>\n",
    "    <br/>\n",
    "    Unsupervised learning can best be summarized as pattern recognition. This is the term for algorithms which do not predict a new variable, but solely learn about the data on hand. Without a target, ML tasks can *only* be unsupervised. E.g.,\n",
    "    \n",
    "    <img alt=\"Pattern\" src=\"img/maxresdefault.jpg\" style=\"width:250px;\"/>"
   ]
  },
  {
   "cell_type": "markdown",
   "metadata": {},
   "source": [
    "### Back to the data & the problem at hand...\n",
    "\n",
    "The purpose: predict the species of iris given several attributes about each observation. __*But how do we know if our model will do well on new data?*__\n",
    "\n",
    "# The first thing you do in ML&mdash;SPLIT YOUR DATA!"
   ]
  },
  {
   "cell_type": "markdown",
   "metadata": {},
   "source": [
    "# Splitting the Data (and common pitfalls)\n",
    "\n",
    "The absolute *most* important first step to machine learning problems is to properly split your data! Why? Model fit statistics are not a good guide to how well a model will predict on new data. In order to reliably assert how well the model will perform on new data, we need to simulate unseen data. Therefore we \"split\" our data into a \"training set\" and a \"testing\" set.\n",
    "\n",
    "We need all exploratory work, transformations and models to be fit on our training set so that they can later be applied to our test set. The test set will only be introduced to our final model __ONCE__ as a means of model selection and as a litmus test as to whether our model will perform to business requirements.\n",
    "\n",
    "Not properly splitting your data can lead to a number of problems including (but not limited to):\n",
    "\n",
    "- Over/under-fitting your data\n",
    "- Distributional differences between train/test splits\n",
    "- Factor levels present in test split but not train\n",
    "\n",
    "Things to consider when splitting your data:\n",
    "\n",
    "- Are there categorical features? If so, do all factor levels exist between splits? How about class imbalance?\n",
    "- Natural ordering to your data?\n",
    "  - If we split without a shuffle and it's time-series data, what might happen?\n",
    "  - Imagine we take the first 100 (~66.7% of the data) observations as the training set. What will happen?\n",
    "\n",
    "    Train set (`species={'setosa', 'versicolor'}`):\n",
    "\n",
    "    <img src=\"img/bad_train1.png\" alt=\"Bad train set1\" style=\"width: 500px;\"/>\n",
    "\n",
    "    Test set (`species={'virginica'}`):\n",
    "\n",
    "    <img src=\"img/bad_test1.png\" alt=\"Bad test set1\" style=\"width: 500px;\"/>\n",
    "\n",
    "    __Uh oh! The model will be fit on only two classes, and will get everything incorrect on the test set!__\n",
    "- Is it reproducible?\n",
    "- How much is enough for each set?\n",
    "  - Too many examples in train and not enough in test means we don't know how well the model generalizes to new data\n",
    "  - Too few examples in train and too many in test could lead to under-fitting"
   ]
  },
  {
   "cell_type": "code",
   "execution_count": 14,
   "metadata": {
    "collapsed": false
   },
   "outputs": [
    {
     "data": {
      "text/html": [
       "<div>\n",
       "<table border=\"1\" class=\"dataframe\">\n",
       "  <thead>\n",
       "    <tr style=\"text-align: right;\">\n",
       "      <th></th>\n",
       "      <th>sepal length (cm)</th>\n",
       "      <th>sepal width (cm)</th>\n",
       "      <th>petal length (cm)</th>\n",
       "      <th>petal width (cm)</th>\n",
       "    </tr>\n",
       "  </thead>\n",
       "  <tbody>\n",
       "    <tr>\n",
       "      <th>130</th>\n",
       "      <td>7.4</td>\n",
       "      <td>2.8</td>\n",
       "      <td>6.1</td>\n",
       "      <td>1.9</td>\n",
       "    </tr>\n",
       "    <tr>\n",
       "      <th>122</th>\n",
       "      <td>7.7</td>\n",
       "      <td>2.8</td>\n",
       "      <td>6.7</td>\n",
       "      <td>2.0</td>\n",
       "    </tr>\n",
       "    <tr>\n",
       "      <th>81</th>\n",
       "      <td>5.5</td>\n",
       "      <td>2.4</td>\n",
       "      <td>3.7</td>\n",
       "      <td>1.0</td>\n",
       "    </tr>\n",
       "    <tr>\n",
       "      <th>71</th>\n",
       "      <td>6.1</td>\n",
       "      <td>NaN</td>\n",
       "      <td>4.0</td>\n",
       "      <td>1.3</td>\n",
       "    </tr>\n",
       "    <tr>\n",
       "      <th>89</th>\n",
       "      <td>NaN</td>\n",
       "      <td>2.5</td>\n",
       "      <td>4.0</td>\n",
       "      <td>1.3</td>\n",
       "    </tr>\n",
       "  </tbody>\n",
       "</table>\n",
       "</div>"
      ],
      "text/plain": [
       "     sepal length (cm)  sepal width (cm)  petal length (cm)  petal width (cm)\n",
       "130                7.4               2.8                6.1               1.9\n",
       "122                7.7               2.8                6.7               2.0\n",
       "81                 5.5               2.4                3.7               1.0\n",
       "71                 6.1               NaN                4.0               1.3\n",
       "89                 NaN               2.5                4.0               1.3"
      ]
     },
     "execution_count": 14,
     "metadata": {},
     "output_type": "execute_result"
    }
   ],
   "source": [
    "from sklearn.model_selection import train_test_split  # sklearn.cross_validation in old versions\n",
    "\n",
    "X_train, X_test, y_train, y_test = train_test_split(X, y, random_state=seed, stratify=y)\n",
    "X_train.head()"
   ]
  },
  {
   "cell_type": "code",
   "execution_count": 15,
   "metadata": {
    "collapsed": false
   },
   "outputs": [
    {
     "data": {
      "text/plain": [
       "array(['virginica', 'virginica', 'versicolor', 'versicolor', 'versicolor'], \n",
       "      dtype='<U10')"
      ]
     },
     "execution_count": 15,
     "metadata": {},
     "output_type": "execute_result"
    }
   ],
   "source": [
    "y_train[:5]"
   ]
  },
  {
   "cell_type": "markdown",
   "metadata": {},
   "source": [
    "### *From here on out, all procedures must be applied to the train set only!*\n",
    "\n",
    "Now that we've split our data, it's time to perform some descriptive and exploratory analytics.\n",
    "\n",
    "\n",
    "\n",
    "### Summarizing data with Pandas\n",
    "\n",
    "Before we dive into our work, it's valuable to take a look at the data we're working with. Consider the following questions:\n",
    "\n",
    "  - Is there any data missing?\n",
    "  - Are there any significant outliers?\n",
    "  - Are there any redundant features?\n",
    "  - What is the scale of the features?\n",
    "  - Are there any categorical features? Or are they all numeric?\n",
    "  - What could a significant difference in mean & median indicate?"
   ]
  },
  {
   "cell_type": "code",
   "execution_count": 16,
   "metadata": {
    "collapsed": false
   },
   "outputs": [
    {
     "data": {
      "text/html": [
       "<div>\n",
       "<table border=\"1\" class=\"dataframe\">\n",
       "  <thead>\n",
       "    <tr style=\"text-align: right;\">\n",
       "      <th></th>\n",
       "      <th>sepal length (cm)</th>\n",
       "      <th>sepal width (cm)</th>\n",
       "      <th>petal length (cm)</th>\n",
       "      <th>petal width (cm)</th>\n",
       "    </tr>\n",
       "  </thead>\n",
       "  <tbody>\n",
       "    <tr>\n",
       "      <th>count</th>\n",
       "      <td>103.000000</td>\n",
       "      <td>107.000000</td>\n",
       "      <td>105.000000</td>\n",
       "      <td>105.000000</td>\n",
       "    </tr>\n",
       "    <tr>\n",
       "      <th>mean</th>\n",
       "      <td>5.866990</td>\n",
       "      <td>3.066355</td>\n",
       "      <td>3.726667</td>\n",
       "      <td>1.161905</td>\n",
       "    </tr>\n",
       "    <tr>\n",
       "      <th>std</th>\n",
       "      <td>0.857652</td>\n",
       "      <td>0.445511</td>\n",
       "      <td>1.772290</td>\n",
       "      <td>0.784021</td>\n",
       "    </tr>\n",
       "    <tr>\n",
       "      <th>min</th>\n",
       "      <td>4.300000</td>\n",
       "      <td>2.000000</td>\n",
       "      <td>1.100000</td>\n",
       "      <td>0.100000</td>\n",
       "    </tr>\n",
       "    <tr>\n",
       "      <th>25%</th>\n",
       "      <td>5.100000</td>\n",
       "      <td>2.800000</td>\n",
       "      <td>1.500000</td>\n",
       "      <td>0.300000</td>\n",
       "    </tr>\n",
       "    <tr>\n",
       "      <th>50%</th>\n",
       "      <td>5.800000</td>\n",
       "      <td>3.000000</td>\n",
       "      <td>4.200000</td>\n",
       "      <td>1.300000</td>\n",
       "    </tr>\n",
       "    <tr>\n",
       "      <th>75%</th>\n",
       "      <td>6.400000</td>\n",
       "      <td>3.300000</td>\n",
       "      <td>5.100000</td>\n",
       "      <td>1.800000</td>\n",
       "    </tr>\n",
       "    <tr>\n",
       "      <th>max</th>\n",
       "      <td>7.900000</td>\n",
       "      <td>4.400000</td>\n",
       "      <td>6.900000</td>\n",
       "      <td>2.500000</td>\n",
       "    </tr>\n",
       "    <tr>\n",
       "      <th>median</th>\n",
       "      <td>5.800000</td>\n",
       "      <td>3.000000</td>\n",
       "      <td>4.200000</td>\n",
       "      <td>1.300000</td>\n",
       "    </tr>\n",
       "  </tbody>\n",
       "</table>\n",
       "</div>"
      ],
      "text/plain": [
       "        sepal length (cm)  sepal width (cm)  petal length (cm)  \\\n",
       "count          103.000000        107.000000         105.000000   \n",
       "mean             5.866990          3.066355           3.726667   \n",
       "std              0.857652          0.445511           1.772290   \n",
       "min              4.300000          2.000000           1.100000   \n",
       "25%              5.100000          2.800000           1.500000   \n",
       "50%              5.800000          3.000000           4.200000   \n",
       "75%              6.400000          3.300000           5.100000   \n",
       "max              7.900000          4.400000           6.900000   \n",
       "median           5.800000          3.000000           4.200000   \n",
       "\n",
       "        petal width (cm)  \n",
       "count         105.000000  \n",
       "mean            1.161905  \n",
       "std             0.784021  \n",
       "min             0.100000  \n",
       "25%             0.300000  \n",
       "50%             1.300000  \n",
       "75%             1.800000  \n",
       "max             2.500000  \n",
       "median          1.300000  "
      ]
     },
     "execution_count": 16,
     "metadata": {},
     "output_type": "execute_result"
    }
   ],
   "source": [
    "def summarize(data):\n",
    "    \"\"\"Create a summary of the input data including min, max,\n",
    "    mean, median, num obs missing, IQR, etc.\n",
    "    \n",
    "    Parameters\n",
    "    ----------\n",
    "    data : pd.DataFrame\n",
    "        The input dataframe to summarize.\n",
    "    \"\"\"\n",
    "    summ = data.describe()\n",
    "    \n",
    "    # get the median, name it\n",
    "    med = data.median()\n",
    "    med.name = \"median\"\n",
    "    \n",
    "    # append the median row\n",
    "    summ = summ.append(med, ignore_index=False)\n",
    "    \n",
    "    return summ\n",
    "\n",
    "summarize(X_train)"
   ]
  },
  {
   "cell_type": "markdown",
   "metadata": {},
   "source": [
    "### What have we observed about `iris`?\n",
    "\n",
    "1. There are no categorical features\n",
    "2. There are 150 observations in the data, and none of the features are fully present (i.e., missing values in each)\n",
    "3. The `petal length (cm)` feature displays a much higher median than mean&mdash;what could that indicate?"
   ]
  },
  {
   "cell_type": "markdown",
   "metadata": {},
   "source": [
    "## Exploratory data analysis\n",
    "\n",
    "In the EDA section, we focus on purely descriptive statistics. We'll look at some visualizations as well. It's worth noting that \"visual analytics\" can't always be performed on data, especially if it's very high dimensional.\n",
    "\n",
    "#### Visualizing data with Seaborn or Matplotlib\n",
    "\n",
    "In iPython notebooks, make sure to use the magic `%matplotlib inline` command!"
   ]
  },
  {
   "cell_type": "code",
   "execution_count": 17,
   "metadata": {
    "collapsed": false
   },
   "outputs": [
    {
     "data": {
      "image/png": "[encoded data removed]",
      "text/plain": [
       "<matplotlib.figure.Figure at 0x1a185a2898>"
      ]
     },
     "metadata": {},
     "output_type": "display_data"
    }
   ],
   "source": [
    "import seaborn as sns\n",
    "%matplotlib inline\n",
    "\n",
    "def pairplots(data, target):\n",
    "    # need to append target\n",
    "    data = data.copy()\n",
    "    data['species'] = target.tolist()\n",
    "    \n",
    "    # get rid of NA to avoid warnings in seaborn\n",
    "    data = data.dropna()\n",
    "    \n",
    "    # make a KDE pairplot\n",
    "    sns.pairplot(data, diag_kind=\"kde\", markers=\"+\",\n",
    "                 plot_kws=dict(s=50, edgecolor=\"b\", linewidth=1),\n",
    "                 diag_kws=dict(shade=True), hue='species',\n",
    "                 size=2)\n",
    "    \n",
    "pairplots(X_train, y_train)"
   ]
  },
  {
   "cell_type": "markdown",
   "metadata": {},
   "source": [
    "Notice the distributional overlaps between different species' features. `setosa` is perfectly linearly separable (meaning you can draw a line to separate classes) from the other two species, but `virginica` and `versicolor` are not."
   ]
  },
  {
   "cell_type": "markdown",
   "metadata": {},
   "source": [
    "## What about multi-collinearity?"
   ]
  },
  {
   "cell_type": "code",
   "execution_count": 18,
   "metadata": {
    "collapsed": false
   },
   "outputs": [
    {
     "data": {
      "text/html": [
       "\n",
       "        <style  type=\"text/css\" >\n",
       "        \n",
       "            #T_f8b179e4_1359_11e8_b9cb_acbc3284b2e5 th {\n",
       "            \n",
       "                font-size: 7pt;\n",
       "            \n",
       "            }\n",
       "        \n",
       "            #T_f8b179e4_1359_11e8_b9cb_acbc3284b2e5 td {\n",
       "            \n",
       "                padding: 0em 0em;\n",
       "            \n",
       "            }\n",
       "        \n",
       "            #T_f8b179e4_1359_11e8_b9cb_acbc3284b2e5 th:hover {\n",
       "            \n",
       "                font-size: 12pt;\n",
       "            \n",
       "            }\n",
       "        \n",
       "            #T_f8b179e4_1359_11e8_b9cb_acbc3284b2e5 tr:hover td:hover {\n",
       "            \n",
       "                max-width: 200px;\n",
       "            \n",
       "                font-size: 12pt;\n",
       "            \n",
       "            }\n",
       "        \n",
       "        \n",
       "            #T_f8b179e4_1359_11e8_b9cb_acbc3284b2e5row0_col0 {\n",
       "            \n",
       "                background-color:  #4479bb;\n",
       "            \n",
       "                max-width:  80px;\n",
       "            \n",
       "                font-size:  10pt;\n",
       "            \n",
       "            }\n",
       "        \n",
       "            #T_f8b179e4_1359_11e8_b9cb_acbc3284b2e5row0_col1 {\n",
       "            \n",
       "                background-color:  #d73c5b;\n",
       "            \n",
       "                max-width:  80px;\n",
       "            \n",
       "                font-size:  10pt;\n",
       "            \n",
       "            }\n",
       "        \n",
       "            #T_f8b179e4_1359_11e8_b9cb_acbc3284b2e5row0_col2 {\n",
       "            \n",
       "                background-color:  #6590c7;\n",
       "            \n",
       "                max-width:  80px;\n",
       "            \n",
       "                font-size:  10pt;\n",
       "            \n",
       "            }\n",
       "        \n",
       "            #T_f8b179e4_1359_11e8_b9cb_acbc3284b2e5row0_col3 {\n",
       "            \n",
       "                background-color:  #7199cb;\n",
       "            \n",
       "                max-width:  80px;\n",
       "            \n",
       "                font-size:  10pt;\n",
       "            \n",
       "            }\n",
       "        \n",
       "            #T_f8b179e4_1359_11e8_b9cb_acbc3284b2e5row1_col0 {\n",
       "            \n",
       "                background-color:  #e7899c;\n",
       "            \n",
       "                max-width:  80px;\n",
       "            \n",
       "                font-size:  10pt;\n",
       "            \n",
       "            }\n",
       "        \n",
       "            #T_f8b179e4_1359_11e8_b9cb_acbc3284b2e5row1_col1 {\n",
       "            \n",
       "                background-color:  #4479bb;\n",
       "            \n",
       "                max-width:  80px;\n",
       "            \n",
       "                font-size:  10pt;\n",
       "            \n",
       "            }\n",
       "        \n",
       "            #T_f8b179e4_1359_11e8_b9cb_acbc3284b2e5row1_col2 {\n",
       "            \n",
       "                background-color:  #d73c5b;\n",
       "            \n",
       "                max-width:  80px;\n",
       "            \n",
       "                font-size:  10pt;\n",
       "            \n",
       "            }\n",
       "        \n",
       "            #T_f8b179e4_1359_11e8_b9cb_acbc3284b2e5row1_col3 {\n",
       "            \n",
       "                background-color:  #dc546f;\n",
       "            \n",
       "                max-width:  80px;\n",
       "            \n",
       "                font-size:  10pt;\n",
       "            \n",
       "            }\n",
       "        \n",
       "            #T_f8b179e4_1359_11e8_b9cb_acbc3284b2e5row2_col0 {\n",
       "            \n",
       "                background-color:  #5e8bc4;\n",
       "            \n",
       "                max-width:  80px;\n",
       "            \n",
       "                font-size:  10pt;\n",
       "            \n",
       "            }\n",
       "        \n",
       "            #T_f8b179e4_1359_11e8_b9cb_acbc3284b2e5row2_col1 {\n",
       "            \n",
       "                background-color:  #d73c5b;\n",
       "            \n",
       "                max-width:  80px;\n",
       "            \n",
       "                font-size:  10pt;\n",
       "            \n",
       "            }\n",
       "        \n",
       "            #T_f8b179e4_1359_11e8_b9cb_acbc3284b2e5row2_col2 {\n",
       "            \n",
       "                background-color:  #4479bb;\n",
       "            \n",
       "                max-width:  80px;\n",
       "            \n",
       "                font-size:  10pt;\n",
       "            \n",
       "            }\n",
       "        \n",
       "            #T_f8b179e4_1359_11e8_b9cb_acbc3284b2e5row2_col3 {\n",
       "            \n",
       "                background-color:  #4c7ebd;\n",
       "            \n",
       "                max-width:  80px;\n",
       "            \n",
       "                font-size:  10pt;\n",
       "            \n",
       "            }\n",
       "        \n",
       "            #T_f8b179e4_1359_11e8_b9cb_acbc3284b2e5row3_col0 {\n",
       "            \n",
       "                background-color:  #6a94c9;\n",
       "            \n",
       "                max-width:  80px;\n",
       "            \n",
       "                font-size:  10pt;\n",
       "            \n",
       "            }\n",
       "        \n",
       "            #T_f8b179e4_1359_11e8_b9cb_acbc3284b2e5row3_col1 {\n",
       "            \n",
       "                background-color:  #d73c5b;\n",
       "            \n",
       "                max-width:  80px;\n",
       "            \n",
       "                font-size:  10pt;\n",
       "            \n",
       "            }\n",
       "        \n",
       "            #T_f8b179e4_1359_11e8_b9cb_acbc3284b2e5row3_col2 {\n",
       "            \n",
       "                background-color:  #4d7fbe;\n",
       "            \n",
       "                max-width:  80px;\n",
       "            \n",
       "                font-size:  10pt;\n",
       "            \n",
       "            }\n",
       "        \n",
       "            #T_f8b179e4_1359_11e8_b9cb_acbc3284b2e5row3_col3 {\n",
       "            \n",
       "                background-color:  #4479bb;\n",
       "            \n",
       "                max-width:  80px;\n",
       "            \n",
       "                font-size:  10pt;\n",
       "            \n",
       "            }\n",
       "        \n",
       "        </style>\n",
       "\n",
       "        <table id=\"T_f8b179e4_1359_11e8_b9cb_acbc3284b2e5\" None>\n",
       "        \n",
       "            <caption>Hover to magify</caption>\n",
       "        \n",
       "\n",
       "        <thead>\n",
       "            \n",
       "            <tr>\n",
       "                \n",
       "                \n",
       "                <th class=\"blank level0\" >\n",
       "                  \n",
       "                \n",
       "                \n",
       "                \n",
       "                <th class=\"col_heading level0 col0\" colspan=1>\n",
       "                  sepal length (cm)\n",
       "                \n",
       "                \n",
       "                \n",
       "                <th class=\"col_heading level0 col1\" colspan=1>\n",
       "                  sepal width (cm)\n",
       "                \n",
       "                \n",
       "                \n",
       "                <th class=\"col_heading level0 col2\" colspan=1>\n",
       "                  petal length (cm)\n",
       "                \n",
       "                \n",
       "                \n",
       "                <th class=\"col_heading level0 col3\" colspan=1>\n",
       "                  petal width (cm)\n",
       "                \n",
       "                \n",
       "            </tr>\n",
       "            \n",
       "        </thead>\n",
       "        <tbody>\n",
       "            \n",
       "            <tr>\n",
       "                \n",
       "                \n",
       "                <th id=\"T_f8b179e4_1359_11e8_b9cb_acbc3284b2e5\"\n",
       "                 class=\"row_heading level0 row0\" rowspan=1>\n",
       "                    sepal length (cm)\n",
       "                \n",
       "                \n",
       "                \n",
       "                <td id=\"T_f8b179e4_1359_11e8_b9cb_acbc3284b2e5row0_col0\"\n",
       "                 class=\"data row0 col0\" >\n",
       "                    1\n",
       "                \n",
       "                \n",
       "                \n",
       "                <td id=\"T_f8b179e4_1359_11e8_b9cb_acbc3284b2e5row0_col1\"\n",
       "                 class=\"data row0 col1\" >\n",
       "                    -0.14\n",
       "                \n",
       "                \n",
       "                \n",
       "                <td id=\"T_f8b179e4_1359_11e8_b9cb_acbc3284b2e5row0_col2\"\n",
       "                 class=\"data row0 col2\" >\n",
       "                    0.89\n",
       "                \n",
       "                \n",
       "                \n",
       "                <td id=\"T_f8b179e4_1359_11e8_b9cb_acbc3284b2e5row0_col3\"\n",
       "                 class=\"data row0 col3\" >\n",
       "                    0.85\n",
       "                \n",
       "                \n",
       "            </tr>\n",
       "            \n",
       "            <tr>\n",
       "                \n",
       "                \n",
       "                <th id=\"T_f8b179e4_1359_11e8_b9cb_acbc3284b2e5\"\n",
       "                 class=\"row_heading level0 row1\" rowspan=1>\n",
       "                    sepal width (cm)\n",
       "                \n",
       "                \n",
       "                \n",
       "                <td id=\"T_f8b179e4_1359_11e8_b9cb_acbc3284b2e5row1_col0\"\n",
       "                 class=\"data row1 col0\" >\n",
       "                    -0.14\n",
       "                \n",
       "                \n",
       "                \n",
       "                <td id=\"T_f8b179e4_1359_11e8_b9cb_acbc3284b2e5row1_col1\"\n",
       "                 class=\"data row1 col1\" >\n",
       "                    1\n",
       "                \n",
       "                \n",
       "                \n",
       "                <td id=\"T_f8b179e4_1359_11e8_b9cb_acbc3284b2e5row1_col2\"\n",
       "                 class=\"data row1 col2\" >\n",
       "                    -0.44\n",
       "                \n",
       "                \n",
       "                \n",
       "                <td id=\"T_f8b179e4_1359_11e8_b9cb_acbc3284b2e5row1_col3\"\n",
       "                 class=\"data row1 col3\" >\n",
       "                    -0.34\n",
       "                \n",
       "                \n",
       "            </tr>\n",
       "            \n",
       "            <tr>\n",
       "                \n",
       "                \n",
       "                <th id=\"T_f8b179e4_1359_11e8_b9cb_acbc3284b2e5\"\n",
       "                 class=\"row_heading level0 row2\" rowspan=1>\n",
       "                    petal length (cm)\n",
       "                \n",
       "                \n",
       "                \n",
       "                <td id=\"T_f8b179e4_1359_11e8_b9cb_acbc3284b2e5row2_col0\"\n",
       "                 class=\"data row2 col0\" >\n",
       "                    0.89\n",
       "                \n",
       "                \n",
       "                \n",
       "                <td id=\"T_f8b179e4_1359_11e8_b9cb_acbc3284b2e5row2_col1\"\n",
       "                 class=\"data row2 col1\" >\n",
       "                    -0.44\n",
       "                \n",
       "                \n",
       "                \n",
       "                <td id=\"T_f8b179e4_1359_11e8_b9cb_acbc3284b2e5row2_col2\"\n",
       "                 class=\"data row2 col2\" >\n",
       "                    1\n",
       "                \n",
       "                \n",
       "                \n",
       "                <td id=\"T_f8b179e4_1359_11e8_b9cb_acbc3284b2e5row2_col3\"\n",
       "                 class=\"data row2 col3\" >\n",
       "                    0.96\n",
       "                \n",
       "                \n",
       "            </tr>\n",
       "            \n",
       "            <tr>\n",
       "                \n",
       "                \n",
       "                <th id=\"T_f8b179e4_1359_11e8_b9cb_acbc3284b2e5\"\n",
       "                 class=\"row_heading level0 row3\" rowspan=1>\n",
       "                    petal width (cm)\n",
       "                \n",
       "                \n",
       "                \n",
       "                <td id=\"T_f8b179e4_1359_11e8_b9cb_acbc3284b2e5row3_col0\"\n",
       "                 class=\"data row3 col0\" >\n",
       "                    0.85\n",
       "                \n",
       "                \n",
       "                \n",
       "                <td id=\"T_f8b179e4_1359_11e8_b9cb_acbc3284b2e5row3_col1\"\n",
       "                 class=\"data row3 col1\" >\n",
       "                    -0.34\n",
       "                \n",
       "                \n",
       "                \n",
       "                <td id=\"T_f8b179e4_1359_11e8_b9cb_acbc3284b2e5row3_col2\"\n",
       "                 class=\"data row3 col2\" >\n",
       "                    0.96\n",
       "                \n",
       "                \n",
       "                \n",
       "                <td id=\"T_f8b179e4_1359_11e8_b9cb_acbc3284b2e5row3_col3\"\n",
       "                 class=\"data row3 col3\" >\n",
       "                    1\n",
       "                \n",
       "                \n",
       "            </tr>\n",
       "            \n",
       "        </tbody>\n",
       "        </table>\n",
       "        "
      ],
      "text/plain": [
       "<pandas.formats.style.Styler at 0x1a18bf02b0>"
      ]
     },
     "execution_count": 18,
     "metadata": {},
     "output_type": "execute_result"
    }
   ],
   "source": [
    "# correlation matrix\n",
    "corr = X_train.corr()\n",
    "\n",
    "# color map (https://stackoverflow.com/questions/39409866/correlation-heatmap)\n",
    "cmap = cmap=sns.diverging_palette(5, 250, as_cmap=True)\n",
    "\n",
    "def magnify():\n",
    "    return [dict(selector=\"th\",\n",
    "                 props=[(\"font-size\", \"7pt\")]),\n",
    "            dict(selector=\"td\",\n",
    "                 props=[('padding', \"0em 0em\")]),\n",
    "            dict(selector=\"th:hover\",\n",
    "                 props=[(\"font-size\", \"12pt\")]),\n",
    "            dict(selector=\"tr:hover td:hover\",\n",
    "                 props=[('max-width', '200px'),\n",
    "                        ('font-size', '12pt')])\n",
    "           ]\n",
    "\n",
    "corr.style.background_gradient(cmap, axis=1)\\\n",
    "    .set_properties(**{'max-width': '80px', 'font-size': '10pt'})\\\n",
    "    .set_caption(\"Hover to magify\")\\\n",
    "    .set_precision(2)\\\n",
    "    .set_table_styles(magnify())"
   ]
  },
  {
   "cell_type": "markdown",
   "metadata": {},
   "source": [
    "\n",
    "## Transformers\n",
    "\n",
    "Transformers allow us to alter the input data in a way that prepares it for use in a machine learning algorithm. Scikit-learn includes many built-in transformers, but also provides a handy interface called the `TransformerMixin` which will allow us to design custom transformers as needed. Examples of common transformers include:\n",
    "\n",
    "- The `Imputer`, which will fill in missing values in the data subject to a user-defined strategy. This is typically a first-step in the pipeline A common one is to fill in the missing values in a feature with the feature's mean, like so:\n",
    "\n",
    "    <img src=\"img/impute.png\" alt=\"Mean imputation\" style=\"width: 700px;\"/>\n",
    "\n",
    "    However, there are several setbacks to using this strategy. For instance, what if&mdash;much as we see for `petal length (cm)`&mdash;the distribution of the feature is skewed or non-normal? Mean might not be a good measure of central tendency. Moreover, what if the feature is categorical? Using mean would not make sense. Alternatives include \"median,\" or even using a classifier on the present features to impute missing values.\n",
    "\n",
    "\n",
    "- The `Scaler`, which will bring all of the data into the same scale (which is important for some techniques). This can be important in situations where different units across features may impact covariance matrices or distance matrices (clustering, SVM, PCA, etc.). The objective is to center each feature with mean 0 and standard deviation 1:\n",
    "\n",
    "    <img src=\"img/scale.png\" alt=\"scaling\" style=\"width: 800px;\"/>\n",
    "\n",
    "\n",
    "- Feature selection or data transformations like [`PCA`](https://en.wikipedia.org/wiki/Principal_component_analysis), [`Factor Analysis`](https://en.wikipedia.org/wiki/Factor_analysis), etc. These techniques either drop features subject to some test (F-test, for instance) or reduce the feature space via matrix factorization techniques.\n",
    "\n",
    "    <img src=\"img/pca.png\" alt=\"PCA\" style=\"width: 700px;\"/>\n",
    "\n",
    "\n",
    "- Feature engineering/extraction. Sometimes a more informative feature might be some kind of combination of other features. For instance, consider a (made up, but very realistic) situation where we have sensor data from heavy machinery. A high friction part has been failing recently, and is very expensive to fix in the field. If we fix in preemptively in the shop in down hours, we can save lots of money and time. Naturally, we want to build a machine learning algorithm to predict when the part is likely to fail, but we need to determine which variables might be informative for a model. We know the part is high-friction and that thermal energy expenditure likely would prove a very informative feature. Therefore, we could design a custom `TransformerMixin` that would compute the lifetime thermal energy expenditure for the part, which would be a feature we then feed into the model. Feature engineering transformers generally resemble the following:\n",
    "\n",
    "    <img src=\"img/feat_ext.png\" alt=\"Feature engineering\" style=\"width: 600px;\"/>\n",
    "    \n",
    "## `fit` vs. `predict`/`transform`\n",
    "\n",
    "There are two stages to every estimator or transformer:\n",
    "1. `fit`\n",
    "2. `predict`/`transform`\n",
    "\n",
    "Before an estimator can be `fit`, however it needs to be initialized. All estimators in scikit-learn adhere to the following interface:\n",
    "\n",
    "```python\n",
    "# initialize (but do not fit) the estimator\n",
    "estimator = SomeEstimator(*args, **kwargs)\n",
    "```\n",
    "\n",
    "\n",
    "Once initialized, and before an estimator can predict or transform, it needs to have been fitted. In order to understand how the different stages work, think of an estimator as a nascent brain&mdash;it knows nothing! The `fit` procedure is the process by which the \"brain\" is presented with examples (training data) and labels in order for it to learn. The more data it's presented, generally, the more it's able to abstract patterns from the data into better hypotheses about the target. The `fit` process is *only* performed on the training data.\n",
    "\n",
    "For any given estimator in scikit-learn, the signature for fitting a model is the following:\n",
    "\n",
    "```python\n",
    "estimator.fit(X_train, y_train)  # returns self\n",
    "```\n",
    "\n",
    "After fitting a model, you can generate predictions (for __estimators__) or transform new data (for __transformers__):\n",
    "\n",
    "```python\n",
    "# for a model:\n",
    "predictions = estimator.predict(X_test)\n",
    "\n",
    "# for a transformer:\n",
    "transformed_data = transformer.transform(X_test)\n",
    "```"
   ]
  },
  {
   "cell_type": "code",
   "execution_count": 19,
   "metadata": {
    "collapsed": true
   },
   "outputs": [],
   "source": [
    "from sklearn.base import BaseEstimator, TransformerMixin\n",
    "from sklearn.utils.validation import check_is_fitted\n",
    "\n",
    "class MeanCenter(BaseEstimator, TransformerMixin):\n",
    "    def __init__(self, col):\n",
    "        self.col = col\n",
    "        \n",
    "    def fit(self, X, y=None):\n",
    "        self.mean_ = X[self.col].mean()\n",
    "        return self\n",
    "    \n",
    "    def transform(self, X):\n",
    "        # ensure the transformer has been fit\n",
    "        check_is_fitted(self, 'mean_')\n",
    "        \n",
    "        # always copy the input frame - we don't want to\n",
    "        # impact the original frame in place\n",
    "        X = X.copy()\n",
    "        col = self.col\n",
    "        X[col] = X[col] - self.mean_\n",
    "        return X"
   ]
  },
  {
   "cell_type": "code",
   "execution_count": 20,
   "metadata": {
    "collapsed": false
   },
   "outputs": [
    {
     "data": {
      "text/html": [
       "<div>\n",
       "<table border=\"1\" class=\"dataframe\">\n",
       "  <thead>\n",
       "    <tr style=\"text-align: right;\">\n",
       "      <th></th>\n",
       "      <th>sepal length (cm)</th>\n",
       "      <th>sepal width (cm)</th>\n",
       "      <th>petal length (cm)</th>\n",
       "      <th>petal width (cm)</th>\n",
       "    </tr>\n",
       "  </thead>\n",
       "  <tbody>\n",
       "    <tr>\n",
       "      <th>130</th>\n",
       "      <td>7.4</td>\n",
       "      <td>-0.266355</td>\n",
       "      <td>6.1</td>\n",
       "      <td>1.9</td>\n",
       "    </tr>\n",
       "    <tr>\n",
       "      <th>122</th>\n",
       "      <td>7.7</td>\n",
       "      <td>-0.266355</td>\n",
       "      <td>6.7</td>\n",
       "      <td>2.0</td>\n",
       "    </tr>\n",
       "    <tr>\n",
       "      <th>81</th>\n",
       "      <td>5.5</td>\n",
       "      <td>-0.666355</td>\n",
       "      <td>3.7</td>\n",
       "      <td>1.0</td>\n",
       "    </tr>\n",
       "    <tr>\n",
       "      <th>71</th>\n",
       "      <td>6.1</td>\n",
       "      <td>NaN</td>\n",
       "      <td>4.0</td>\n",
       "      <td>1.3</td>\n",
       "    </tr>\n",
       "    <tr>\n",
       "      <th>89</th>\n",
       "      <td>NaN</td>\n",
       "      <td>-0.566355</td>\n",
       "      <td>4.0</td>\n",
       "      <td>1.3</td>\n",
       "    </tr>\n",
       "  </tbody>\n",
       "</table>\n",
       "</div>"
      ],
      "text/plain": [
       "     sepal length (cm)  sepal width (cm)  petal length (cm)  petal width (cm)\n",
       "130                7.4         -0.266355                6.1               1.9\n",
       "122                7.7         -0.266355                6.7               2.0\n",
       "81                 5.5         -0.666355                3.7               1.0\n",
       "71                 6.1               NaN                4.0               1.3\n",
       "89                 NaN         -0.566355                4.0               1.3"
      ]
     },
     "execution_count": 20,
     "metadata": {},
     "output_type": "execute_result"
    }
   ],
   "source": [
    "mc = MeanCenter(col='sepal width (cm)').fit(X_train)\n",
    "mc.transform(X_train).head()"
   ]
  },
  {
   "cell_type": "markdown",
   "metadata": {},
   "source": [
    "## Pipelines\n",
    "\n",
    "When developing a machine learning model (and all of in its stages), it's important to think about what will happen to the new data that gets passed in. We should be developing a pipeline through which tomorrow's data can easily pass. The input is raw data, and the output is predictions. The interim stages are called __transformers__, and the final stage is our __estimator__ (ML algorithm).\n",
    "\n",
    "Here is a (very simple) example of what a pipeline might look like:\n",
    "\n",
    "<img src=\"img/pipeline.png\" alt=\"Pipeline example\" style=\"width: 750px;\"/>\n",
    "\n",
    "### Planning our pipe\n",
    "\n",
    "Since iris is such a well-put-together dataset, there are not many stages in the pipeline we need to address. However, there is one we absolutely need to handle because of the missing values&mdash;imputation. The last stage of the pipeline will be the __estimator__."
   ]
  },
  {
   "cell_type": "code",
   "execution_count": 21,
   "metadata": {
    "collapsed": true
   },
   "outputs": [],
   "source": [
    "from sklearn.pipeline import Pipeline\n",
    "from sklearn.preprocessing import Imputer\n",
    "\n",
    "# the pipeline takes 1 argument: a single list of length-2 tuples, \n",
    "# in the form of: (name, Estimator)\n",
    "stages = [\n",
    "    ('impute', Imputer(strategy=\"median\"))\n",
    "]\n",
    "\n",
    "pipe = Pipeline(stages)"
   ]
  },
  {
   "cell_type": "markdown",
   "metadata": {},
   "source": [
    "### Fit & transform input data"
   ]
  },
  {
   "cell_type": "code",
   "execution_count": 22,
   "metadata": {
    "collapsed": false
   },
   "outputs": [
    {
     "data": {
      "text/plain": [
       "array([[ 7.4,  2.8,  6.1,  1.9],\n",
       "       [ 7.7,  2.8,  6.7,  2. ],\n",
       "       [ 5.5,  2.4,  3.7,  1. ],\n",
       "       [ 6.1,  3. ,  4. ,  1.3],\n",
       "       [ 5.8,  2.5,  4. ,  1.3]])"
      ]
     },
     "execution_count": 22,
     "metadata": {},
     "output_type": "execute_result"
    }
   ],
   "source": [
    "# If a pipeline ends with an Estimator, it can transform (through all stages \n",
    "# except the estimator) OR predict (all the way through). If the pipeline only\n",
    "# contains transformers, it cannot predict--it can only transform\n",
    "pipe.fit(X_train, y_train)\n",
    "\n",
    "# let's take a look at the transformed data\n",
    "pipe.transform(X_train)[:5]"
   ]
  },
  {
   "cell_type": "markdown",
   "metadata": {},
   "source": [
    "Notice that the pipeline takes a matrix of 4 features and returns a its transformed features.\n",
    "\n",
    "**This is our new input matrix!**"
   ]
  },
  {
   "cell_type": "markdown",
   "metadata": {},
   "source": [
    "## Building a baseline model\n",
    "\n",
    "Now that we've covered how to build a pipeline, it's time to add an estimator to the mix and start building models!"
   ]
  },
  {
   "cell_type": "code",
   "execution_count": 23,
   "metadata": {
    "collapsed": false
   },
   "outputs": [
    {
     "data": {
      "text/plain": [
       "Pipeline(memory=None,\n",
       "     steps=[('impute', Imputer(axis=0, copy=True, missing_values='NaN', strategy='median', verbose=0)), ('clf', RandomForestClassifier(bootstrap=True, class_weight=None, criterion='gini',\n",
       "            max_depth=None, max_features='auto', max_leaf_nodes=None,\n",
       "            min_impurity_decrease=0.0, min_impu...stimators=10, n_jobs=1,\n",
       "            oob_score=False, random_state=42, verbose=0, warm_start=False))])"
      ]
     },
     "execution_count": 23,
     "metadata": {},
     "output_type": "execute_result"
    }
   ],
   "source": [
    "from sklearn.ensemble import RandomForestClassifier\n",
    "\n",
    "# function to build the pipeline\n",
    "def build_pipe(est, est_name='clf'):\n",
    "    return Pipeline([\n",
    "            ('impute', Imputer(strategy='median')),\n",
    "            (est_name, est)\n",
    "        ])\n",
    "\n",
    "# add the estimator to the end of the stages and fit a new pipeline\n",
    "pipe = build_pipe(RandomForestClassifier(random_state=seed))\n",
    "pipe.fit(X_train, y_train)"
   ]
  },
  {
   "cell_type": "markdown",
   "metadata": {},
   "source": [
    "#### Before going further... \n",
    "\n",
    "Before progressing, we need to talk about two very important concepts in machine learning:\n",
    "\n",
    "- [__Bias/variance trade-off__](https://en.wikipedia.org/wiki/Bias–variance_tradeoff)\n",
    "    - The bias is error from erroneous assumptions in the learning algorithm. High bias can cause an algorithm to miss the relevant relations between features and target outputs (underfitting).\n",
    "    - The variance is error from sensitivity to small fluctuations in the training set. High variance can cause an algorithm to model the random noise in the training data, rather than the intended outputs (overfitting).\n",
    "    \n",
    "    Consider a usecase wherein we wish to predict membership of a point in one of two classes (\"pluses\" and \"minuses\") using a *k*-Nearest-Neighbor classifier. That is, for the *k* nearest points (generally an odd amount), assign membership to the class most represented:\n",
    "    \n",
    "    <br/>\n",
    "    <img src=\"img/preknn.png\" alt=\"pre-knn\" style=\"width: 400px;\"/>\n",
    "    <br/>\n",
    "    \n",
    "    **Over-fitting (high variance)**&mdash;for $k=1$, the model becomes so sensitive to noisy fluctuations in the data that its classification power is brittle (i.e., not robust). The model can be considered \"over-fit,\" meaning high variance.\n",
    "    \n",
    "    <br/>\n",
    "    <img src=\"img/overfitknn.png\" alt=\"overfit-knn\" style=\"width: 400px;\"/>\n",
    "    <br/>\n",
    "    \n",
    "    **Under-fitting (high bias)**&mdash;for $k=17$, the model becomes so *in*sensitive to the most relevant features (i.e., it's equally weighting distances from relatively far out neighbors) that it becomes a numbers game: if there are more \"minus\" records and as $k$ approaches $m$, the number of records, we're guaranteed to vote in favor of the majority class. This is high bias.\n",
    "    \n",
    "    <br/>\n",
    "    <img src=\"img/underfitknn.png\" alt=\"underfit-knn\" style=\"width: 400px;\"/>\n",
    "    <br/>\n",
    "    \n",
    "\n",
    "- [__Cross validation__](https://en.wikipedia.org/wiki/Cross-validation_%28statistics%29)\n",
    "\n",
    "    Given only a train/test set, and under the restriction that your test set may only be used __once__ as a model selection measure (lest we [*p*-hack](https://en.wikipedia.org/wiki/Data_dredging)), we can't get a very good estimate of how our model will perform on a dataset its never before seen. Cross validation helps us alleviate this problem. The theory behind cross-validation is that further splitting the training set into fragments (*folds*), and fitting multiple models, evaluating against the left-out training set fold will give us a better idea of how the model will generalize. Cross-validation is generally used to select model hyper-parameters, which are then fit against the entire training set. Here is an example of *k*-fold cross validation:\n",
    "    \n",
    "    <br/>\n",
    "    <img src=\"img/cv.png\" alt=\"cross-validation\" style=\"width: 800px;\"/>\n",
    "    <br/>\n",
    "    \n",
    "    After fitting three models across different partitions of the training data and scoring each held-out fold, we might get scores resembling the following:\n",
    "\n",
    "        (0.981, 0.939, 0.915)\n",
    "    \n",
    "    From which we get a mean score of 0.945, with a standard deviation of 0.027. Once we've selected our hyper-parameters we can fit against them against the full training set:\n",
    "\n",
    "    <br/>\n",
    "    <img src=\"img/lastcv.png\" alt=\"last-fold\" style=\"width: 600px;\"/>\n",
    "    <br/>\n",
    "    \n",
    "    Setting Up Your CV\n",
    "    ------------------\n",
    "    \n",
    "    When considering your CV design, it's important to consider whether further splitting your data could cause factor levels to get separated. Consider the following situation:\n",
    "    \n",
    "<br/>\n",
    "<img src=\"img/badcvsplit.png\" alt=\"bad-split\" style=\"width: 300px;\"/>\n",
    "<br/>\n",
    "\n",
    " Fold 3 contains factor levels that the others don't! This raises two important concerns:\n",
    "    \n",
    " - Always shuffle your cross validation splits, much like your `train_test_split`\n",
    " - In the presence of categorical variables, consider using `StratifiedKFold`, which will split while balancing classes in a vector across splits."
   ]
  },
  {
   "cell_type": "code",
   "execution_count": 24,
   "metadata": {
    "collapsed": true
   },
   "outputs": [],
   "source": [
    "from sklearn.model_selection import KFold\n",
    "\n",
    "# define our cross validator - remember to shuffle!\n",
    "cv = KFold(n_splits=3, shuffle=True, random_state=seed)"
   ]
  },
  {
   "cell_type": "markdown",
   "metadata": {},
   "source": [
    "The cross validation object will further split our training set into three parts of roughly equal size:"
   ]
  },
  {
   "cell_type": "code",
   "execution_count": 25,
   "metadata": {
    "collapsed": false
   },
   "outputs": [
    {
     "name": "stdout",
     "output_type": "stream",
     "text": [
      "Num splits: 3\n",
      "Fold 0 n_samples: 74\n",
      "Fold 1 n_samples: 75\n",
      "Fold 2 n_samples: 75\n"
     ]
    }
   ],
   "source": [
    "cv_parts = list(cv.split(X_train))\n",
    "print(\"Num splits: %i\" % len(cv_parts))\n",
    "for i, part in enumerate(cv_parts):\n",
    "    print(\"Fold %i n_samples: %i\" % (i, part[0].shape[0]))"
   ]
  },
  {
   "cell_type": "markdown",
   "metadata": {},
   "source": [
    "### Scoring metrics\n",
    "\n",
    "Before we can begin selecting an optimal model or tuning hyper-parameters, we need to define the basis by which we'll score our models.\n",
    "\n",
    "When you tell an executive, \"this is the absolute best model for this problem,\" they are going to want to know on what criteria you've made your assertion. \"Best\" to a car manufacturer, for instance, could mean:\n",
    "\n",
    "- Least likely to cause deaths\n",
    "- Least likely to require a recall\n",
    "- Most likely to maximize fuel efficiency\n",
    "\n",
    "It's at this point that we need to define our scoring mechanism, or optimization criteria. There are loads of papers and theoretical discussions on how to score various models, but in the interest of remaining practical, we are going to use a simple [accuracy score](http://scikit-learn.org/stable/modules/generated/sklearn.metrics.accuracy_score.html) measure."
   ]
  },
  {
   "cell_type": "code",
   "execution_count": 26,
   "metadata": {
    "collapsed": false
   },
   "outputs": [
    {
     "data": {
      "text/plain": [
       "array([ 0.97368421,  0.89189189,  0.86486486])"
      ]
     },
     "execution_count": 26,
     "metadata": {},
     "output_type": "execute_result"
    }
   ],
   "source": [
    "from sklearn.model_selection import cross_val_score\n",
    "from sklearn.linear_model import LogisticRegression\n",
    "\n",
    "# Fitting a logistic regression with CV\n",
    "cross_val_score(build_pipe(LogisticRegression(random_state=seed)), \n",
    "                X=X_train, y=y_train, cv=cv, scoring='accuracy')"
   ]
  },
  {
   "cell_type": "markdown",
   "metadata": {},
   "source": [
    "We can use this same approach to baseline several other models and determine which one to tune and ultimately select as \"the best.\""
   ]
  },
  {
   "cell_type": "code",
   "execution_count": 27,
   "metadata": {
    "collapsed": false
   },
   "outputs": [
    {
     "data": {
      "text/plain": [
       "array([ 1.        ,  0.91891892,  0.89189189])"
      ]
     },
     "execution_count": 27,
     "metadata": {},
     "output_type": "execute_result"
    }
   ],
   "source": [
    "from sklearn.svm import SVC\n",
    "\n",
    "# Fitting an SVM\n",
    "cross_val_score(build_pipe(SVC(random_state=seed)), \n",
    "                X=X_train, y=y_train, cv=cv, scoring='accuracy')"
   ]
  },
  {
   "cell_type": "code",
   "execution_count": 28,
   "metadata": {
    "collapsed": false
   },
   "outputs": [
    {
     "data": {
      "text/plain": [
       "array([ 0.94736842,  0.97297297,  0.91891892])"
      ]
     },
     "execution_count": 28,
     "metadata": {},
     "output_type": "execute_result"
    }
   ],
   "source": [
    "from sklearn.ensemble import RandomForestClassifier\n",
    "\n",
    "# Fit a random forest\n",
    "cross_val_score(build_pipe(RandomForestClassifier(random_state=seed)), \n",
    "                X=X_train, y=y_train, cv=cv, scoring='accuracy')"
   ]
  },
  {
   "cell_type": "markdown",
   "metadata": {},
   "source": [
    "We can see that random forest and SVM performed most consistently well here, so we'll take those to the tuning stage."
   ]
  },
  {
   "cell_type": "markdown",
   "metadata": {},
   "source": [
    "## Selecting an optimal model\n",
    "\n",
    "Now that we've baselined several models, we can select several to tune in order to find the best hyper-parameters possible for each model. The random forest and SVM performed best on our data (that's not to say we couldn't tune another model to do better), so we'll tune them and ultimately select one over the over as our best model. We do this using a \"grid search\""
   ]
  },
  {
   "cell_type": "code",
   "execution_count": 29,
   "metadata": {
    "collapsed": false
   },
   "outputs": [
    {
     "name": "stdout",
     "output_type": "stream",
     "text": [
      "Fitting 3 folds for each of 50 candidates, totalling 150 fits\n"
     ]
    },
    {
     "name": "stderr",
     "output_type": "stream",
     "text": [
      "[Parallel(n_jobs=-1)]: Done  52 tasks      | elapsed:    2.7s\n",
      "[Parallel(n_jobs=-1)]: Done 150 out of 150 | elapsed:    8.3s finished\n"
     ]
    },
    {
     "data": {
      "text/plain": [
       "RandomizedSearchCV(cv=KFold(n_splits=3, random_state=42, shuffle=True),\n",
       "          error_score='raise',\n",
       "          estimator=Pipeline(memory=None,\n",
       "     steps=[('imputer', Imputer(axis=0, copy=True, missing_values='NaN', strategy='mean', verbose=0)), ('clf', RandomForestClassifier(bootstrap=True, class_weight=None, criterion='gini',\n",
       "            max_depth=None, max_features='auto', max_leaf_nodes=None,\n",
       "            min_impurity_decrease=0.0, min_impur...stimators=10, n_jobs=1,\n",
       "            oob_score=False, random_state=42, verbose=0, warm_start=False))]),\n",
       "          fit_params=None, iid=True, n_iter=50, n_jobs=-1,\n",
       "          param_distributions={'clf__min_samples_leaf': [1, 5, 10, 25, 50], 'clf__max_depth': <scipy.stats._distn_infrastructure.rv_frozen object at 0x1a18ba4f98>, 'imputer__strategy': ['mean', 'median'], 'clf__n_estimators': <scipy.stats._distn_infrastructure.rv_frozen object at 0x1a18ba4780>},\n",
       "          pre_dispatch='2*n_jobs', random_state=42, refit=True,\n",
       "          return_train_score=False, scoring='accuracy', verbose=1)"
      ]
     },
     "execution_count": 29,
     "metadata": {},
     "output_type": "execute_result"
    }
   ],
   "source": [
    "from sklearn.model_selection import RandomizedSearchCV\n",
    "from scipy.stats import uniform, randint\n",
    "\n",
    "# the pipe we'll use\n",
    "rf_pipe = Pipeline([\n",
    "        ('imputer', Imputer()),\n",
    "        ('clf', RandomForestClassifier(random_state=seed))\n",
    "    ])\n",
    "\n",
    "# define the hyper-params\n",
    "hyper_params = {\n",
    "    'imputer__strategy': ['mean', 'median'],\n",
    "    'clf__n_estimators': randint(50, 250),\n",
    "    'clf__min_samples_leaf': [1, 5, 10, 25, 50],\n",
    "    'clf__max_depth': randint(10, 25)\n",
    "}\n",
    "\n",
    "# define the search\n",
    "rf_search = RandomizedSearchCV(rf_pipe, param_distributions=hyper_params,\n",
    "                               random_state=seed, cv=cv, n_iter=50,\n",
    "                               n_jobs=-1, verbose=1, scoring='accuracy',\n",
    "                               return_train_score=False)\n",
    "\n",
    "rf_search.fit(X_train, y_train)"
   ]
  },
  {
   "cell_type": "markdown",
   "metadata": {},
   "source": [
    "Now we'll do the same thing for the SVC. Note that in practive for large datasets, we would likely use many less iterations, since SVMs are computationally expensive to fit."
   ]
  },
  {
   "cell_type": "code",
   "execution_count": 30,
   "metadata": {
    "collapsed": false
   },
   "outputs": [
    {
     "name": "stdout",
     "output_type": "stream",
     "text": [
      "Fitting 3 folds for each of 50 candidates, totalling 150 fits\n"
     ]
    },
    {
     "name": "stderr",
     "output_type": "stream",
     "text": [
      "[Parallel(n_jobs=-1)]: Done 150 out of 150 | elapsed:    0.3s finished\n"
     ]
    },
    {
     "data": {
      "text/plain": [
       "RandomizedSearchCV(cv=KFold(n_splits=3, random_state=42, shuffle=True),\n",
       "          error_score='raise',\n",
       "          estimator=Pipeline(memory=None,\n",
       "     steps=[('imputer', Imputer(axis=0, copy=True, missing_values='NaN', strategy='mean', verbose=0)), ('clf', SVC(C=1.0, cache_size=200, class_weight=None, coef0=0.0,\n",
       "  decision_function_shape='ovr', degree=3, gamma='auto', kernel='rbf',\n",
       "  max_iter=-1, probability=True, random_state=42, shrinking=True,\n",
       "  tol=0.001, verbose=False))]),\n",
       "          fit_params=None, iid=True, n_iter=50, n_jobs=-1,\n",
       "          param_distributions={'clf__C': <scipy.stats._distn_infrastructure.rv_frozen object at 0x1a18ba47b8>, 'imputer__strategy': ['mean', 'median'], 'clf__kernel': ['rbf', 'linear', 'poly', 'sigmoid']},\n",
       "          pre_dispatch='2*n_jobs', random_state=42, refit=True,\n",
       "          return_train_score=False, scoring='accuracy', verbose=1)"
      ]
     },
     "execution_count": 30,
     "metadata": {},
     "output_type": "execute_result"
    }
   ],
   "source": [
    "svm_pipe = Pipeline([\n",
    "        ('imputer', Imputer()),\n",
    "        ('clf', SVC(random_state=seed, probability=True))\n",
    "    ])\n",
    "\n",
    "# define the hyper-params\n",
    "hyper_params = {\n",
    "    'imputer__strategy': ['mean', 'median'],\n",
    "    'clf__C': uniform(0.5, 0.125),\n",
    "    'clf__kernel': ['rbf', 'linear', 'poly', 'sigmoid']\n",
    "}\n",
    "\n",
    "# define the search\n",
    "svm_search = RandomizedSearchCV(svm_pipe, param_distributions=hyper_params,\n",
    "                                random_state=seed, cv=cv, n_iter=50,\n",
    "                                n_jobs=-1, verbose=1, scoring='accuracy',\n",
    "                                return_train_score=False)\n",
    "\n",
    "svm_search.fit(X_train, y_train)"
   ]
  },
  {
   "cell_type": "markdown",
   "metadata": {},
   "source": [
    "### Examine grid results\n",
    "\n",
    "You might be curious which combinations of hyper-parameters were tested, and how they performed. By digging into the grid searches a bit, this is completely possible:"
   ]
  },
  {
   "cell_type": "code",
   "execution_count": 31,
   "metadata": {
    "collapsed": false
   },
   "outputs": [
    {
     "data": {
      "text/html": [
       "<div>\n",
       "<table border=\"1\" class=\"dataframe\">\n",
       "  <thead>\n",
       "    <tr style=\"text-align: right;\">\n",
       "      <th></th>\n",
       "      <th>clf__max_depth</th>\n",
       "      <th>clf__min_samples_leaf</th>\n",
       "      <th>clf__n_estimators</th>\n",
       "      <th>imputer__strategy</th>\n",
       "      <th>mean_fit_time</th>\n",
       "      <th>mean_score_time</th>\n",
       "      <th>mean_test_score</th>\n",
       "      <th>std_fit_time</th>\n",
       "      <th>std_score_time</th>\n",
       "      <th>std_test_score</th>\n",
       "    </tr>\n",
       "  </thead>\n",
       "  <tbody>\n",
       "    <tr>\n",
       "      <th>25</th>\n",
       "      <td>22</td>\n",
       "      <td>1</td>\n",
       "      <td>206</td>\n",
       "      <td>mean</td>\n",
       "      <td>0.641544</td>\n",
       "      <td>0.034408</td>\n",
       "      <td>0.964286</td>\n",
       "      <td>0.075273</td>\n",
       "      <td>0.009265</td>\n",
       "      <td>0.012885</td>\n",
       "    </tr>\n",
       "    <tr>\n",
       "      <th>11</th>\n",
       "      <td>13</td>\n",
       "      <td>1</td>\n",
       "      <td>180</td>\n",
       "      <td>mean</td>\n",
       "      <td>0.507936</td>\n",
       "      <td>0.025115</td>\n",
       "      <td>0.964286</td>\n",
       "      <td>0.043532</td>\n",
       "      <td>0.002886</td>\n",
       "      <td>0.012885</td>\n",
       "    </tr>\n",
       "    <tr>\n",
       "      <th>40</th>\n",
       "      <td>16</td>\n",
       "      <td>1</td>\n",
       "      <td>101</td>\n",
       "      <td>mean</td>\n",
       "      <td>0.327245</td>\n",
       "      <td>0.015167</td>\n",
       "      <td>0.964286</td>\n",
       "      <td>0.004281</td>\n",
       "      <td>0.001426</td>\n",
       "      <td>0.012885</td>\n",
       "    </tr>\n",
       "  </tbody>\n",
       "</table>\n",
       "</div>"
      ],
      "text/plain": [
       "   clf__max_depth clf__min_samples_leaf clf__n_estimators imputer__strategy  \\\n",
       "25             22                     1               206              mean   \n",
       "11             13                     1               180              mean   \n",
       "40             16                     1               101              mean   \n",
       "\n",
       "    mean_fit_time  mean_score_time  mean_test_score  std_fit_time  \\\n",
       "25       0.641544         0.034408         0.964286      0.075273   \n",
       "11       0.507936         0.025115         0.964286      0.043532   \n",
       "40       0.327245         0.015167         0.964286      0.004281   \n",
       "\n",
       "    std_score_time  std_test_score  \n",
       "25        0.009265        0.012885  \n",
       "11        0.002886        0.012885  \n",
       "40        0.001426        0.012885  "
      ]
     },
     "execution_count": 31,
     "metadata": {},
     "output_type": "execute_result"
    }
   ],
   "source": [
    "# custom functions from inside this directory\n",
    "from functions import get_grid_results_table\n",
    "\n",
    "rf_table = get_grid_results_table(rf_search).sort_values('mean_test_score', ascending=False)\n",
    "rf_table.head(3)"
   ]
  },
  {
   "cell_type": "code",
   "execution_count": 32,
   "metadata": {
    "collapsed": false
   },
   "outputs": [
    {
     "data": {
      "text/html": [
       "<div>\n",
       "<table border=\"1\" class=\"dataframe\">\n",
       "  <thead>\n",
       "    <tr style=\"text-align: right;\">\n",
       "      <th></th>\n",
       "      <th>clf__C</th>\n",
       "      <th>clf__kernel</th>\n",
       "      <th>imputer__strategy</th>\n",
       "      <th>mean_fit_time</th>\n",
       "      <th>mean_score_time</th>\n",
       "      <th>mean_test_score</th>\n",
       "      <th>std_fit_time</th>\n",
       "      <th>std_score_time</th>\n",
       "      <th>std_test_score</th>\n",
       "    </tr>\n",
       "  </thead>\n",
       "  <tbody>\n",
       "    <tr>\n",
       "      <th>25</th>\n",
       "      <td>0.621198</td>\n",
       "      <td>linear</td>\n",
       "      <td>median</td>\n",
       "      <td>0.004159</td>\n",
       "      <td>0.000512</td>\n",
       "      <td>0.946429</td>\n",
       "      <td>0.000091</td>\n",
       "      <td>0.000095</td>\n",
       "      <td>0.038389</td>\n",
       "    </tr>\n",
       "    <tr>\n",
       "      <th>26</th>\n",
       "      <td>0.617437</td>\n",
       "      <td>linear</td>\n",
       "      <td>median</td>\n",
       "      <td>0.003770</td>\n",
       "      <td>0.000545</td>\n",
       "      <td>0.946429</td>\n",
       "      <td>0.000580</td>\n",
       "      <td>0.000127</td>\n",
       "      <td>0.038389</td>\n",
       "    </tr>\n",
       "    <tr>\n",
       "      <th>6</th>\n",
       "      <td>0.604055</td>\n",
       "      <td>linear</td>\n",
       "      <td>median</td>\n",
       "      <td>0.003255</td>\n",
       "      <td>0.000457</td>\n",
       "      <td>0.946429</td>\n",
       "      <td>0.000796</td>\n",
       "      <td>0.000125</td>\n",
       "      <td>0.038389</td>\n",
       "    </tr>\n",
       "  </tbody>\n",
       "</table>\n",
       "</div>"
      ],
      "text/plain": [
       "      clf__C clf__kernel imputer__strategy  mean_fit_time  mean_score_time  \\\n",
       "25  0.621198      linear            median       0.004159         0.000512   \n",
       "26  0.617437      linear            median       0.003770         0.000545   \n",
       "6   0.604055      linear            median       0.003255         0.000457   \n",
       "\n",
       "    mean_test_score  std_fit_time  std_score_time  std_test_score  \n",
       "25         0.946429      0.000091        0.000095        0.038389  \n",
       "26         0.946429      0.000580        0.000127        0.038389  \n",
       "6          0.946429      0.000796        0.000125        0.038389  "
      ]
     },
     "execution_count": 32,
     "metadata": {},
     "output_type": "execute_result"
    }
   ],
   "source": [
    "svm_table = get_grid_results_table(svm_search).sort_values('mean_test_score', ascending=False)\n",
    "svm_table.head(3)"
   ]
  },
  {
   "cell_type": "markdown",
   "metadata": {},
   "source": [
    "By examining the top models from each, you might notice that the SVM fold scores were slightly less consistent than those of the random forest folds (higher `std_test_score`; similar to what we saw in the baselines as well). If this is something you wish to minimize, in the grid search you can set `refit=False` and then select the best model hyper parameters in this fashion rather than letting the search choose for you."
   ]
  },
  {
   "cell_type": "code",
   "execution_count": 33,
   "metadata": {
    "collapsed": false
   },
   "outputs": [
    {
     "data": {
      "image/png": "[encoded data removed]",
      "text/plain": [
       "<matplotlib.figure.Figure at 0x1a18e42940>"
      ]
     },
     "metadata": {},
     "output_type": "display_data"
    },
    {
     "data": {
      "image/png": "[encoded data removed]",
      "text/plain": [
       "<matplotlib.figure.Figure at 0x1a18addd30>"
      ]
     },
     "metadata": {},
     "output_type": "display_data"
    },
    {
     "data": {
      "image/png": "[encoded data removed]",
      "text/plain": [
       "<matplotlib.figure.Figure at 0x1a18db8160>"
      ]
     },
     "metadata": {},
     "output_type": "display_data"
    }
   ],
   "source": [
    "from matplotlib import pyplot as plt\n",
    "%matplotlib inline\n",
    "\n",
    "def plot_search_details(table):\n",
    "    param_cols = [c for c in table.columns \n",
    "                  if c not in {'mean_fit_time', 'mean_score_time', 'mean_test_score',\n",
    "                               'std_fit_time', 'std_score_time', 'std_test_score'}]\n",
    "\n",
    "    # cols used for y-axis and marker sizing\n",
    "    scores = table['mean_test_score']\n",
    "    score_sd = table['std_test_score']\n",
    "    fit_times = table['mean_fit_time']\n",
    "    x_axis = np.arange(table.shape[0])\n",
    "\n",
    "    # set alpha, scale between 0 and 1\n",
    "    # https://stats.stackexchange.com/questions/70801/how-to-normalize-data-to-0-1-range\n",
    "    min_fit = fit_times.min()\n",
    "    max_fit = fit_times.max()\n",
    "    alpha = 1 - ((fit_times - min_fit) / (max_fit - min_fit))\n",
    "\n",
    "    # set colors\n",
    "    rgba_colors = np.zeros((len(x_axis), 4))\n",
    "    # for blue the B column needs to be one\n",
    "    rgba_colors[:, 2] = 1.0\n",
    "    # the fourth column needs to be the alphas\n",
    "    rgba_colors[:, 3] = alpha\n",
    "    # the best model should be red, not blue\n",
    "    rgba_colors[0, 0] = 1.0\n",
    "    rgba_colors[0, 2] = 0.0\n",
    "\n",
    "    for param in param_cols:\n",
    "        col = table[param]\n",
    "\n",
    "        # continuous params get a scatter plot\n",
    "        try:\n",
    "            col = col.astype(np.float)\n",
    "\n",
    "            plt.scatter(col, scores, c=rgba_colors)\n",
    "            plt.xlabel(param)\n",
    "            plt.ylabel(\"score\")\n",
    "            plt.title(\"Score vs. %s\" % param)\n",
    "\n",
    "            plt.show()\n",
    "\n",
    "        # otherwise they get a bar graph\n",
    "        except ValueError:\n",
    "            cat_plot = scores.groupby(col).mean()\n",
    "            cat_plot.sort_values()\n",
    "            cat_plot.plot(kind=\"barh\", xlim=(.5, None), figsize=(7, cat_plot.shape[0] / 2))\n",
    "            plt.xlabel(\"mean score\")\n",
    "\n",
    "            plt.show()\n",
    "            \n",
    "# plot the details for the SVM\n",
    "plot_search_details(svm_table)"
   ]
  },
  {
   "cell_type": "markdown",
   "metadata": {},
   "source": [
    "# Evaluate results\n",
    "\n",
    "Now we can introduce the holdout set to each optimized model to select our ultimate, \"best\" model that will be used."
   ]
  },
  {
   "cell_type": "code",
   "execution_count": null,
   "metadata": {
    "collapsed": true
   },
   "outputs": [],
   "source": [
    "from sklearn.metrics import accuracy_score\n",
    "\n",
    "rf_preds = rf_search.predict(X_test)\n",
    "svm_preds = svm_search.predict(X_test)\n",
    "\n",
    "print(\"RF test score: %.5f\" % accuracy_score(y_test, rf_preds))\n",
    "print(\"SVM test score: %.5f\" % accuracy_score(y_test, svm_preds))"
   ]
  },
  {
   "cell_type": "markdown",
   "metadata": {},
   "source": [
    "# Model persistence\n",
    "\n",
    "At this point, you have spent a considerable amount of time putting together a modeling pipeline that will handle your raw data and feed it through to your estimator. You've even cross-validated and tuned the model to make sure you get the best one possible.\n",
    "\n",
    "__*What next?*__\n",
    "\n",
    "It's time to persist our model to disk! Scikit-learn allows us to easily pickle the entire modeling pipeline"
   ]
  },
  {
   "cell_type": "code",
   "execution_count": null,
   "metadata": {
    "collapsed": true
   },
   "outputs": [],
   "source": [
    "from sklearn.externals import joblib\n",
    "import os\n",
    "\n",
    "# if it's already there, get rid of it\n",
    "otpt_file = 'iris.pkl'\n",
    "if os.path.exists(otpt_file):\n",
    "    os.unlink(otpt_file)\n",
    "\n",
    "# dump the model into a pickle file\n",
    "joblib.dump(svm_search, otpt_file, compress=3)\n",
    "assert os.path.exists(otpt_file)"
   ]
  },
  {
   "cell_type": "markdown",
   "metadata": {},
   "source": [
    "Once the model is on disk, we can easily load and generate predictions like so:"
   ]
  },
  {
   "cell_type": "code",
   "execution_count": null,
   "metadata": {
    "collapsed": true
   },
   "outputs": [],
   "source": [
    "joblib.load(otpt_file).predict(X_test)[:5]"
   ]
  },
  {
   "cell_type": "markdown",
   "metadata": {},
   "source": [
    "# Model deployment\n",
    "\n",
    "Once your model has been persisted, the question arises: how do you deploy it? While the answer to this question is complex and beyond the scope of this course, we will demonstrate how to deploy behind a simple REST API endpoint using Flask.\n",
    "\n",
    "### Instructions\n",
    "\n",
    "- In a new terminal window, navigate to the [`course/`](./) directory\n",
    "- Run the following:\n",
    "\n",
    "```bash\n",
    "$ source activate packt-ml\n",
    "$ python iris_app.py <host> <port>\n",
    "```\n",
    "\n",
    "For the purposes of this demo, you can simply use \"localhost\" for host, and 5000 for port. Thus, your command would be:\n",
    "\n",
    "```bash\n",
    "$ python iris_app.py localhost 5000\n",
    "```"
   ]
  },
  {
   "cell_type": "code",
   "execution_count": null,
   "metadata": {
    "collapsed": true
   },
   "outputs": [],
   "source": [
    "import requests\n",
    "import os\n",
    "\n",
    "# if you have a proxy...\n",
    "os.environ['NO_PROXY'] = 'localhost'\n",
    "\n",
    "# now, let's form a request:\n",
    "url = \"http://localhost:5000/\"\n",
    "res = requests.post(url, json={'data': [[None, 3.2, 1.3, None],\n",
    "                                        [6.3 , 3.3, 4.7, 1.6 ]]})\n",
    "res.json()"
   ]
  },
  {
   "cell_type": "code",
   "execution_count": null,
   "metadata": {
    "collapsed": true
   },
   "outputs": [],
   "source": []
  }
 ],
 "metadata": {
  "anaconda-cloud": {},
  "kernelspec": {
   "display_name": "Python [py35]",
   "language": "python",
   "name": "Python [py35]"
  },
  "language_info": {
   "codemirror_mode": {
    "name": "ipython",
    "version": 3
   },
   "file_extension": ".py",
   "mimetype": "text/x-python",
   "name": "python",
   "nbconvert_exporter": "python",
   "pygments_lexer": "ipython3",
   "version": "3.5.3"
  }
 },
 "nbformat": 4,
 "nbformat_minor": 2
}
